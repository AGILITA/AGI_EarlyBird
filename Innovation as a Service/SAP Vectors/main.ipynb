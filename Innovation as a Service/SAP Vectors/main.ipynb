{
 "cells": [
  {
   "cell_type": "markdown",
   "metadata": {},
   "source": [
    "## Dependencies"
   ]
  },
  {
   "cell_type": "code",
   "execution_count": null,
   "metadata": {},
   "outputs": [],
   "source": [
    "%pip install generative-ai-hub-sdk[all]\n",
    "%pip install hdbcli"
   ]
  },
  {
   "cell_type": "markdown",
   "metadata": {},
   "source": [
    "## Get Embeddings"
   ]
  },
  {
   "cell_type": "code",
   "execution_count": null,
   "metadata": {},
   "outputs": [],
   "source": [
    "from gen_ai_hub.proxy.native.openai import embeddings\n",
    "import json, struct\n",
    "\n",
    "# Required if you want to insert the data into a HANA Database\n",
    "def createFvecs(values) -> bytes:\n",
    "    return struct.pack(\"<I%sf\" % len(values), len(values), *values)\n",
    "\n",
    "# Get the embeddings from the AI Core\n",
    "# Model can be changed to whatever you are using\n",
    "# Check the README on how to setup auth\n",
    "def get_embedding(input: list[str], model=\"text-embedding-3-small\") -> list[bytes]:\n",
    "    response = embeddings.create(\n",
    "      model_name=model,\n",
    "      input=input\n",
    "    )\n",
    "    return list(map(lambda data: createFvecs(data.embedding), response.data))\n",
    "\n",
    "vectors: list[bytes]\n",
    "\n",
    "with open(\"./data.json\") as file:\n",
    "    data = json.load(file)\n",
    "    materials = data[\"value\"]\n",
    "    request = list(map(lambda material: f\"\"\"\n",
    "            MaterialNumber:{material[\"material_number\"]},\n",
    "            Description{material[\"description\"]},\n",
    "        \"\"\", materials))\n",
    "    vectors = get_embedding(request)"
   ]
  },
  {
   "cell_type": "markdown",
   "metadata": {},
   "source": [
    "# Insert data into HANA Database"
   ]
  },
  {
   "cell_type": "code",
   "execution_count": null,
   "metadata": {},
   "outputs": [],
   "source": [
    "from dotenv import load_dotenv\n",
    "from hdbcli import dbapi\n",
    "import os\n",
    "\n",
    "# Get the credentials stored in a local .env\n",
    "# You could also get them from a destination or however you like\n",
    "def connect_to_hana():\n",
    "    load_dotenv()\n",
    "    return dbapi.connect(\n",
    "        address=os.getenv('host'),\n",
    "        port=os.getenv('port'),\n",
    "        user=os.getenv('user'),\n",
    "        password=os.getenv('password'),\n",
    "        encrypt=True\n",
    "    )\n",
    "\n",
    "conn = connect_to_hana()\n",
    "cursor = conn.cursor()\n",
    "\n",
    "table_name = \"YOUR_TABLE_NAME\"\n",
    "column_name = \"COLUMN_NAME_OF_YOUR_VECTORS\"\n",
    "\n",
    "# The `?` is a prepared statement and will be replace by your vectors in the next line of code\n",
    "sql_query = f\"INSERT INTO {table_name} ({column_name}) VALUES (?)\"\n",
    "cursor.executemany(sql_query, vectors)\n",
    "\n",
    "cursor.close()"
   ]
  }
 ],
 "metadata": {
  "kernelspec": {
   "display_name": "Python 3",
   "language": "python",
   "name": "python3"
  },
  "language_info": {
   "codemirror_mode": {
    "name": "ipython",
    "version": 3
   },
   "file_extension": ".py",
   "mimetype": "text/x-python",
   "name": "python",
   "nbconvert_exporter": "python",
   "pygments_lexer": "ipython3",
   "version": "3.12.7"
  }
 },
 "nbformat": 4,
 "nbformat_minor": 2
}
